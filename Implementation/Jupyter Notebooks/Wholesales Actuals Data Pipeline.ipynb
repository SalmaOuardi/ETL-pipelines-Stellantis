{
 "cells": [
  {
   "cell_type": "markdown",
   "metadata": {},
   "source": [
    "<font size=\"+2\"><b><center>Wholesales Actuals Data Pipeline</center></b></font>"
   ]
  },
  {
   "cell_type": "markdown",
   "metadata": {},
   "source": [
    "### Imports"
   ]
  },
  {
   "cell_type": "code",
   "execution_count": 100,
   "metadata": {},
   "outputs": [
    {
     "name": "stdout",
     "output_type": "stream",
     "text": [
      "The autoreload extension is already loaded. To reload it, use:\n",
      "  %reload_ext autoreload\n"
     ]
    }
   ],
   "source": [
    "%load_ext autoreload\n",
    "%autoreload 2\n",
    "import os\n",
    "import datetime\n",
    "import pandas as pd\n",
    "pd.set_option(\"display.max_rows\", 500)\n",
    "pd.set_option(\"display.max_columns\", 100)\n",
    "from pyspark.sql import functions as F\n",
    "\n",
    "from crf0a_app.configuration import spark_config\n",
    "from crf0a_app.utils import system"
   ]
  },
  {
   "cell_type": "markdown",
   "metadata": {},
   "source": [
    "### Spark session"
   ]
  },
  {
   "cell_type": "code",
   "execution_count": 101,
   "metadata": {},
   "outputs": [],
   "source": [
    "spark_context, spark_session = spark_config.get_spark(\n",
    "    app_name=\"[crf0A] Write to Exadata\",\n",
    "    driver_cores=1,\n",
    "    driver_mem=\"4g\",\n",
    "    max_executors=8,\n",
    "    executor_cores=4,\n",
    "    executor_mem=\"4g\"\n",
    ")"
   ]
  },
  {
   "cell_type": "markdown",
   "metadata": {},
   "source": [
    "### Exadata"
   ]
  },
  {
   "cell_type": "markdown",
   "metadata": {},
   "source": [
    "#### Instantiate OracleDatabase object"
   ]
  },
  {
   "cell_type": "code",
   "execution_count": 102,
   "metadata": {},
   "outputs": [],
   "source": [
    "from crf0a_app.infra.oracle_database import OracleDatabase"
   ]
  },
  {
   "cell_type": "code",
   "execution_count": 103,
   "metadata": {},
   "outputs": [],
   "source": [
    "oracle_db = OracleDatabase(dialect=\"jdbc\", spark_session=spark_session)"
   ]
  },
  {
   "cell_type": "code",
   "execution_count": 104,
   "metadata": {},
   "outputs": [],
   "source": [
    "from datetime import date"
   ]
  },
  {
   "cell_type": "markdown",
   "metadata": {},
   "source": [
    "#### Read"
   ]
  },
  {
   "cell_type": "code",
   "execution_count": 105,
   "metadata": {},
   "outputs": [
    {
     "name": "stdout",
     "output_type": "stream",
     "text": [
      "<class 'str'>\n"
     ]
    }
   ],
   "source": [
    "today = str(date.today())\n",
    "cycle = today[0:4]+today[5:7]\n",
    "print (type(cycle))"
   ]
  },
  {
   "cell_type": "code",
   "execution_count": 106,
   "metadata": {},
   "outputs": [
    {
     "name": "stdout",
     "output_type": "stream",
     "text": [
      "30/06/2022\n"
     ]
    }
   ],
   "source": [
    "today = datetime.date.today()\n",
    "first = today.replace(day=1)\n",
    "lastday_lastMonth1 = (first - datetime.timedelta(days=1))\n",
    "lastday_lastMonth2 = (first - datetime.timedelta(days=1)).strftime(\"%d/%m/%Y\")\n",
    "print(lastday_lastMonth2)"
   ]
  },
  {
   "cell_type": "code",
   "execution_count": 107,
   "metadata": {},
   "outputs": [
    {
     "name": "stdout",
     "output_type": "stream",
     "text": [
      "01/06/2022\n"
     ]
    }
   ],
   "source": [
    "today = datetime.date.today()\n",
    "first = today.replace(day=1)\n",
    "firstday_lastMonth = (first - datetime.timedelta(days=lastday_lastMonth1.day)).strftime(\"%d/%m/%Y\")\n",
    "print(firstday_lastMonth)"
   ]
  },
  {
   "cell_type": "code",
   "execution_count": 108,
   "metadata": {
    "scrolled": false
   },
   "outputs": [],
   "source": [
    "\n",
    "# SQL query\n",
    "PROD_DEM = f\"\"\"\n",
    "(SELECT\n",
    "    a1.libelle_pp_5   program_country,\n",
    "    a1.famille_0      family,\n",
    "    CAST(a1.date_photo_2 AS DATE) monthyear,\n",
    "    'Wholesales' measure,\n",
    "    SUM(a1.tfac_m_1) value,\n",
    "    to_char(sysdate)   inserted_date,\n",
    "    '{cycle}' cycle\n",
    "FROM\n",
    "    (\n",
    "        SELECT\n",
    "            a3.famille      famille_0,\n",
    "            a3.tfac_m       tfac_m_1,\n",
    "            CAST(a3.date_photo AS DATE)   date_photo_2,\n",
    "            a3.qi_filial    qi_filial,\n",
    "            a2.qi_filiale   qi_filiale,\n",
    "            a2.libelle_pp   libelle_pp_5\n",
    "        FROM\n",
    "            brc06_bds00.rbvqtdne   a3,\n",
    "            brc06_bds00.rbvqtpco   a2\n",
    "        WHERE\n",
    "            a2.qi_filiale = a3.qi_filial\n",
    "            AND a3.date_photo >= TO_DATE('{firstday_lastMonth}', 'dd/mm/yyyy')\n",
    "            AND a3.date_photo <= TO_DATE('{lastday_lastMonth2}', 'dd/mm/yyyy')\n",
    "    ) a1\n",
    "WHERE\n",
    "    ( a1.libelle_pp_5 = 'AFRIQUE' )\n",
    "    OR ( a1.libelle_pp_5 = 'ALGERIE' )\n",
    "    OR ( a1.libelle_pp_5 = 'ZONE ALGERIE' )\n",
    "    OR ( a1.libelle_pp_5 = 'EGYPTE' )\n",
    "    OR ( a1.libelle_pp_5 = 'MASHREQ' )\n",
    "    OR ( a1.libelle_pp_5 = 'MAURICE AC' )\n",
    "    OR ( a1.libelle_pp_5 = 'MAURICE OV' )\n",
    "    OR ( a1.libelle_pp_5 = 'MAURICE AP' )\n",
    "    OR ( a1.libelle_pp_5 = 'MASHREQ ZONE OV' )\n",
    "    OR ( a1.libelle_pp_5 = 'MAROC' )\n",
    "    OR ( a1.libelle_pp_5 = 'NIGERIA' )\n",
    "    OR ( a1.libelle_pp_5 = 'ARABIE' )\n",
    "    OR ( a1.libelle_pp_5 = 'AFRIQUE DU SUD' )\n",
    "    OR ( a1.libelle_pp_5 = 'ZONE TUNISIE' )\n",
    "    OR ( a1.libelle_pp_5 = 'TURQUIE' )\n",
    "    OR ( a1.libelle_pp_5 = 'TURQUIE DS' )\n",
    "GROUP BY\n",
    "    a1.libelle_pp_5,\n",
    "    a1.famille_0,\n",
    "    a1.date_photo_2 ,\n",
    "    'Wholesales',\n",
    "    to_char(sysdate),\n",
    "    '{cycle}'\n",
    "HAVING\n",
    "    SUM(a1.tfac_m_1) IS NOT NULL\n",
    "ORDER BY\n",
    "    monthyear DESC,\n",
    "    value DESC\n",
    "FETCH FIRST 10 ROWS ONLY\n",
    ")\n",
    "\"\"\"\n"
   ]
  },
  {
   "cell_type": "code",
   "execution_count": 109,
   "metadata": {},
   "outputs": [],
   "source": [
    "# Read data from Oracle\n",
    "wholesales = oracle_db.read_df_from_query(PROD_DEM, fetchsize=20000)"
   ]
  },
  {
   "cell_type": "code",
   "execution_count": 110,
   "metadata": {},
   "outputs": [
    {
     "data": {
      "text/plain": [
       "DataFrame[PROGRAM_COUNTRY: string, FAMILY: string, MONTHYEAR: timestamp, MEASURE: string, VALUE: decimal(38,10), INSERTED_DATE: string, CYCLE: string]"
      ]
     },
     "execution_count": 110,
     "metadata": {},
     "output_type": "execute_result"
    }
   ],
   "source": [
    "wholesales.persist()"
   ]
  },
  {
   "cell_type": "code",
   "execution_count": 111,
   "metadata": {},
   "outputs": [
    {
     "data": {
      "text/html": [
       "<div>\n",
       "<style scoped>\n",
       "    .dataframe tbody tr th:only-of-type {\n",
       "        vertical-align: middle;\n",
       "    }\n",
       "\n",
       "    .dataframe tbody tr th {\n",
       "        vertical-align: top;\n",
       "    }\n",
       "\n",
       "    .dataframe thead th {\n",
       "        text-align: right;\n",
       "    }\n",
       "</style>\n",
       "<table border=\"1\" class=\"dataframe\">\n",
       "  <thead>\n",
       "    <tr style=\"text-align: right;\">\n",
       "      <th></th>\n",
       "      <th>PROGRAM_COUNTRY</th>\n",
       "      <th>FAMILY</th>\n",
       "      <th>MONTHYEAR</th>\n",
       "      <th>MEASURE</th>\n",
       "      <th>VALUE</th>\n",
       "      <th>INSERTED_DATE</th>\n",
       "      <th>CYCLE</th>\n",
       "    </tr>\n",
       "  </thead>\n",
       "  <tbody>\n",
       "    <tr>\n",
       "      <th>0</th>\n",
       "      <td>ALGERIE</td>\n",
       "      <td>1CM3</td>\n",
       "      <td>2022-06-30</td>\n",
       "      <td>Wholesales</td>\n",
       "      <td>3311.0000000000</td>\n",
       "      <td>12-JUL-22</td>\n",
       "      <td>202207</td>\n",
       "    </tr>\n",
       "    <tr>\n",
       "      <th>1</th>\n",
       "      <td>ALGERIE</td>\n",
       "      <td>1SX8</td>\n",
       "      <td>2022-06-30</td>\n",
       "      <td>Wholesales</td>\n",
       "      <td>1925.0000000000</td>\n",
       "      <td>12-JUL-22</td>\n",
       "      <td>202207</td>\n",
       "    </tr>\n",
       "    <tr>\n",
       "      <th>2</th>\n",
       "      <td>AFRIQUE</td>\n",
       "      <td>1PP2</td>\n",
       "      <td>2022-06-30</td>\n",
       "      <td>Wholesales</td>\n",
       "      <td>1768.0000000000</td>\n",
       "      <td>12-JUL-22</td>\n",
       "      <td>202207</td>\n",
       "    </tr>\n",
       "    <tr>\n",
       "      <th>3</th>\n",
       "      <td>TURQUIE</td>\n",
       "      <td>1PP8</td>\n",
       "      <td>2022-06-30</td>\n",
       "      <td>Wholesales</td>\n",
       "      <td>1516.0000000000</td>\n",
       "      <td>12-JUL-22</td>\n",
       "      <td>202207</td>\n",
       "    </tr>\n",
       "    <tr>\n",
       "      <th>4</th>\n",
       "      <td>AFRIQUE</td>\n",
       "      <td>1PP1</td>\n",
       "      <td>2022-06-30</td>\n",
       "      <td>Wholesales</td>\n",
       "      <td>1483.0000000000</td>\n",
       "      <td>12-JUL-22</td>\n",
       "      <td>202207</td>\n",
       "    </tr>\n",
       "  </tbody>\n",
       "</table>\n",
       "</div>"
      ],
      "text/plain": [
       "  PROGRAM_COUNTRY FAMILY  MONTHYEAR     MEASURE            VALUE  \\\n",
       "0         ALGERIE   1CM3 2022-06-30  Wholesales  3311.0000000000   \n",
       "1         ALGERIE   1SX8 2022-06-30  Wholesales  1925.0000000000   \n",
       "2         AFRIQUE   1PP2 2022-06-30  Wholesales  1768.0000000000   \n",
       "3         TURQUIE   1PP8 2022-06-30  Wholesales  1516.0000000000   \n",
       "4         AFRIQUE   1PP1 2022-06-30  Wholesales  1483.0000000000   \n",
       "\n",
       "  INSERTED_DATE   CYCLE  \n",
       "0     12-JUL-22  202207  \n",
       "1     12-JUL-22  202207  \n",
       "2     12-JUL-22  202207  \n",
       "3     12-JUL-22  202207  \n",
       "4     12-JUL-22  202207  "
      ]
     },
     "execution_count": 111,
     "metadata": {},
     "output_type": "execute_result"
    }
   ],
   "source": [
    "wholesales.limit(5).toPandas()"
   ]
  },
  {
   "cell_type": "code",
   "execution_count": 112,
   "metadata": {},
   "outputs": [
    {
     "data": {
      "text/plain": [
       "10"
      ]
     },
     "execution_count": 112,
     "metadata": {},
     "output_type": "execute_result"
    }
   ],
   "source": [
    "wholesales.count()"
   ]
  },
  {
   "cell_type": "markdown",
   "metadata": {},
   "source": [
    "#### Write"
   ]
  },
  {
   "cell_type": "code",
   "execution_count": 114,
   "metadata": {},
   "outputs": [],
   "source": [
    "# Write data to Oracle\n",
    "oracle_db.write_df_to_oracle(\n",
    "    wholesales,\n",
    "    \"BRC_SD01865.WS_ACT\",\n",
    "    mode=\"overwrite\"\n",
    ")"
   ]
  },
  {
   "cell_type": "code",
   "execution_count": null,
   "metadata": {},
   "outputs": [],
   "source": []
  }
 ],
 "metadata": {
  "hide_input": false,
  "kernelspec": {
   "display_name": "Python 3",
   "language": "python",
   "name": "python3"
  },
  "language_info": {
   "codemirror_mode": {
    "name": "ipython",
    "version": 3
   },
   "file_extension": ".py",
   "mimetype": "text/x-python",
   "name": "python",
   "nbconvert_exporter": "python",
   "pygments_lexer": "ipython3",
   "version": "3.6.4"
  },
  "toc": {
   "base_numbering": 1,
   "nav_menu": {},
   "number_sections": true,
   "sideBar": true,
   "skip_h1_title": false,
   "title_cell": "Table of Contents",
   "title_sidebar": "Contents",
   "toc_cell": false,
   "toc_position": {},
   "toc_section_display": true,
   "toc_window_display": true
  }
 },
 "nbformat": 4,
 "nbformat_minor": 2
}
